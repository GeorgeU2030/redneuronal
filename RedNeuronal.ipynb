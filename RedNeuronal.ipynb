{
  "nbformat": 4,
  "nbformat_minor": 0,
  "metadata": {
    "colab": {
      "provenance": []
    },
    "kernelspec": {
      "name": "python3",
      "display_name": "Python 3"
    },
    "language_info": {
      "name": "python"
    }
  },
  "cells": [
    {
      "cell_type": "code",
      "execution_count": 1,
      "metadata": {
        "id": "oyd6DAhdckEJ"
      },
      "outputs": [],
      "source": [
        "import tensorflow as tf\n",
        "import numpy as np"
      ]
    },
    {
      "cell_type": "code",
      "source": [
        "celsius = np.array([-40,-10,0,8,15,22,38],dtype=float)\n",
        "fahrenheit = np.array([-40,14,32,46,59,72,100],dtype=float)"
      ],
      "metadata": {
        "id": "D_mgsKtNc6UH"
      },
      "execution_count": 2,
      "outputs": []
    },
    {
      "cell_type": "code",
      "source": [
        "capa = tf.keras.layers.Dense(units=1,input_shape=[1])\n",
        "modelo = tf.keras.Sequential([capa])"
      ],
      "metadata": {
        "id": "mEPnkb5mdiaT"
      },
      "execution_count": 3,
      "outputs": []
    },
    {
      "cell_type": "code",
      "source": [
        "modelo.compile(\n",
        "    optimizer=tf.keras.optimizers.Adam(0.1),\n",
        "    loss='mean_squared_error'\n",
        ")"
      ],
      "metadata": {
        "id": "j-xcAVoyd6l-"
      },
      "execution_count": 4,
      "outputs": []
    },
    {
      "cell_type": "code",
      "source": [
        "print('comenzando entrenamiento')\n",
        "historial = modelo.fit(celsius, fahrenheit,epochs=1000, verbose=False)\n",
        "print('modelo entrenado')"
      ],
      "metadata": {
        "id": "z2Uur_RxeO4_",
        "colab": {
          "base_uri": "https://localhost:8080/"
        },
        "outputId": "14e71e8e-8636-4a2d-fe00-e7b2fbe0ad6c"
      },
      "execution_count": 5,
      "outputs": [
        {
          "output_type": "stream",
          "name": "stdout",
          "text": [
            "comenzando entrenamiento\n",
            "modelo entrenado\n"
          ]
        }
      ]
    },
    {
      "cell_type": "code",
      "source": [
        "import matplotlib.pyplot as plt\n",
        "plt.xlabel('N Epoca')\n",
        "plt.ylabel('Magnitud de perdida')\n",
        "plt.plot(historial.history[\"loss\"])"
      ],
      "metadata": {
        "colab": {
          "base_uri": "https://localhost:8080/",
          "height": 467
        },
        "id": "NHkZMAjd85vL",
        "outputId": "613cfdad-1507-4790-92a1-f5fdf33ac146"
      },
      "execution_count": 7,
      "outputs": [
        {
          "output_type": "execute_result",
          "data": {
            "text/plain": [
              "[<matplotlib.lines.Line2D at 0x7911aec00c40>]"
            ]
          },
          "metadata": {},
          "execution_count": 7
        },
        {
          "output_type": "display_data",
          "data": {
            "text/plain": [
              "<Figure size 640x480 with 1 Axes>"
            ],
            "image/png": "[encoded data removed]"
          },
          "metadata": {}
        }
      ]
    },
    {
      "cell_type": "markdown",
      "source": [
        "Mas vueltas el error va disminuyendo"
      ],
      "metadata": {
        "id": "hAJgjUTX9Zbg"
      }
    },
    {
      "cell_type": "code",
      "source": [
        "# prediccion\n",
        "\n",
        "resultado = modelo.predict([100.0])\n",
        "print('el resultado es '+str(resultado)+ ' F')"
      ],
      "metadata": {
        "colab": {
          "base_uri": "https://localhost:8080/"
        },
        "id": "JPwCHTF09dyw",
        "outputId": "d00bae88-df24-4bdd-e08e-d43ec48cd9c7"
      },
      "execution_count": 9,
      "outputs": [
        {
          "output_type": "stream",
          "name": "stdout",
          "text": [
            "1/1 [==============================] - 0s 151ms/step\n",
            "el resultado es [[211.74185]] F\n"
          ]
        }
      ]
    },
    {
      "cell_type": "markdown",
      "source": [
        "son $212$ en realidad asi que muy cerca :) !"
      ],
      "metadata": {
        "id": "TSzS0e5I917X"
      }
    },
    {
      "cell_type": "code",
      "source": [
        "#variables internas del modelo\n",
        "\n",
        "print(capa.get_weights())"
      ],
      "metadata": {
        "colab": {
          "base_uri": "https://localhost:8080/"
        },
        "id": "G2FHrDX5-GVn",
        "outputId": "bd42a0e2-d73e-4e24-e186-0989b5b06fcf"
      },
      "execution_count": 11,
      "outputs": [
        {
          "output_type": "stream",
          "name": "stdout",
          "text": [
            "[array([[1.7982957]], dtype=float32), array([31.912283], dtype=float32)]\n"
          ]
        }
      ]
    },
    {
      "cell_type": "markdown",
      "source": [
        "Lo que esta haciendo es $100*1.798 + 31.91$, basicamente el modelo descifro la formula de la funcion lineal, si agregamos redes mas complejas nos puede dar resultados mas rapidos"
      ],
      "metadata": {
        "id": "ePcw2-o4-T9Y"
      }
    }
  ]
}